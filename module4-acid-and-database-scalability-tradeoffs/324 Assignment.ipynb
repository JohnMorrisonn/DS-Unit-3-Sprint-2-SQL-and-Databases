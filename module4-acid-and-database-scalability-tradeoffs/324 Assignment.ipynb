{
 "cells": [
  {
   "cell_type": "code",
   "execution_count": 12,
   "metadata": {},
   "outputs": [],
   "source": [
    "import pandas as pd\n",
    "import sqlite3\n",
    "import psycopg2\n",
    "from dotenv import load_dotenv, find_dotenv\n",
    "import os\n",
    "import sqlite3"
   ]
  },
  {
   "cell_type": "code",
   "execution_count": 5,
   "metadata": {},
   "outputs": [
    {
     "data": {
      "text/plain": [
       "True"
      ]
     },
     "execution_count": 5,
     "metadata": {},
     "output_type": "execute_result"
    }
   ],
   "source": [
    "load_dotenv(find_dotenv())"
   ]
  },
  {
   "cell_type": "code",
   "execution_count": 8,
   "metadata": {},
   "outputs": [],
   "source": [
    "dbname = os.environ.get('dbanme')\n",
    "user = os.environ.get('user')\n",
    "password = os.environ.get('password')\n",
    "host = os.environ.get('host')"
   ]
  },
  {
   "cell_type": "code",
   "execution_count": 154,
   "metadata": {},
   "outputs": [],
   "source": [
    "pg_conn = psycopg2.connect(dbname = dbname, user = user, password = password, host = host)\n",
    "pg_curs = pg_conn.cursor()"
   ]
  },
  {
   "cell_type": "code",
   "execution_count": 13,
   "metadata": {},
   "outputs": [
    {
     "data": {
      "text/plain": [
       "[('public',\n",
       "  'charactercreator_character',\n",
       "  'hyedsfxe',\n",
       "  None,\n",
       "  True,\n",
       "  False,\n",
       "  False,\n",
       "  False),\n",
       " ('public', 'titanic_data', 'hyedsfxe', None, True, False, False, False)]"
      ]
     },
     "execution_count": 13,
     "metadata": {},
     "output_type": "execute_result"
    }
   ],
   "source": [
    "show_tables = \"\"\"\n",
    "SELECT\n",
    "   *\n",
    "FROM\n",
    "   pg_catalog.pg_tables\n",
    "WHERE\n",
    "   schemaname != 'pg_catalog'\n",
    "AND schemaname != 'information_schema';\n",
    "\"\"\"\n",
    "pg_curs.execute(show_tables)\n",
    "pg_curs.fetchall()"
   ]
  },
  {
   "cell_type": "markdown",
   "metadata": {},
   "source": [
    "## Titanic Dataset\n",
    "\n",
    "### How many passengers survived, how many died"
   ]
  },
  {
   "cell_type": "code",
   "execution_count": 37,
   "metadata": {},
   "outputs": [],
   "source": [
    "def get_query(query, info_str, curs):\n",
    "    curs.execute(query)\n",
    "    print(info_str, curs.fetchall())"
   ]
  },
  {
   "cell_type": "code",
   "execution_count": 41,
   "metadata": {},
   "outputs": [
    {
     "name": "stdout",
     "output_type": "stream",
     "text": [
      "All [(887,)]\n"
     ]
    }
   ],
   "source": [
    "get_query('SELECT COUNT(*) FROM titanic_data', 'All', pg_curs)"
   ]
  },
  {
   "cell_type": "code",
   "execution_count": 39,
   "metadata": {},
   "outputs": [
    {
     "name": "stdout",
     "output_type": "stream",
     "text": [
      "Survived [(342,)]\n",
      "Died [(545,)]\n"
     ]
    }
   ],
   "source": [
    "query = 'SELECT COUNT(Survived) FROM titanic_data WHERE Survived = 1 '\n",
    "get_query(query, 'Survived', pg_curs)\n",
    "query = 'SELECT COUNT(Survived) FROM titanic_data WHERE Survived = 0 '\n",
    "get_query(query, 'Died', pg_curs)"
   ]
  },
  {
   "cell_type": "markdown",
   "metadata": {},
   "source": [
    "### How many passengers were in each class?"
   ]
  },
  {
   "cell_type": "code",
   "execution_count": 50,
   "metadata": {},
   "outputs": [
    {
     "name": "stdout",
     "output_type": "stream",
     "text": [
      "Count of passengers in each class [(216, 1), (487, 3), (184, 2)]\n"
     ]
    }
   ],
   "source": [
    "# Count of the class and group by the class\n",
    "\n",
    "query = 'SELECT COUNT(Pclass), Pclass FROM titanic_data GROUP BY Pclass'\n",
    "get_query(query, 'Count of passengers in each class', pg_curs)"
   ]
  },
  {
   "cell_type": "markdown",
   "metadata": {},
   "source": [
    "### How many passengers survived/died in each class?"
   ]
  },
  {
   "cell_type": "code",
   "execution_count": 66,
   "metadata": {},
   "outputs": [
    {
     "name": "stdout",
     "output_type": "stream",
     "text": [
      "Count of those who survived in each class vs those who died in each class [(136, 1), (80, 1), (87, 2), (97, 2), (119, 3), (368, 3)]\n"
     ]
    }
   ],
   "source": [
    "# Count of survivors where survived = 0/1 and group by pclass\n",
    "\n",
    "query = 'SELECT COUNT(Survived), Pclass FROM titanic_data GROUP BY Pclass, Survived ORDER BY Pclass, Survived DESC'\n",
    "get_query(query, 'Count of those who survived in each class vs those who died in each class', pg_curs)"
   ]
  },
  {
   "cell_type": "markdown",
   "metadata": {},
   "source": [
    "### What was the average age of survivors vs nonsurvivors"
   ]
  },
  {
   "cell_type": "code",
   "execution_count": 93,
   "metadata": {},
   "outputs": [
    {
     "name": "stdout",
     "output_type": "stream",
     "text": [
      "Average age of survivors vs non survivors [(0, 30.1385321100917), (1, 28.4083918128272)]\n"
     ]
    }
   ],
   "source": [
    "# Average age grouped by Survived\n",
    "\n",
    "query = 'SELECT Survived, AVG(Age) FROM titanic_data GROUP BY Survived'\n",
    "get_query(query, 'Average age of survivors vs non survivors', pg_curs)"
   ]
  },
  {
   "cell_type": "markdown",
   "metadata": {},
   "source": [
    "### What was the average age of each passenger class?"
   ]
  },
  {
   "cell_type": "code",
   "execution_count": 109,
   "metadata": {},
   "outputs": [
    {
     "name": "stdout",
     "output_type": "stream",
     "text": [
      "Average age of each class [(1, 38.7889814815587), (2, 29.8686413042571), (3, 25.188747433238)]\n"
     ]
    }
   ],
   "source": [
    "# Average age grouped by class\n",
    "\n",
    "query = 'SELECT Pclass, AVG(Age) FROM titanic_data GROUP BY Pclass ORDER BY Pclass ASC'\n",
    "get_query(query, 'Average age of each class', pg_curs )"
   ]
  },
  {
   "cell_type": "markdown",
   "metadata": {},
   "source": [
    "### What was the average fare of each passenger by class and survival?"
   ]
  },
  {
   "cell_type": "code",
   "execution_count": 116,
   "metadata": {},
   "outputs": [
    {
     "name": "stdout",
     "output_type": "stream",
     "text": [
      "Average fare of each passenger by class and survival [(3, 1, 13.694887394958), (3, 0, 13.7118529891304), (2, 1, 22.0557), (2, 0, 19.4123278350515), (1, 1, 95.6080286764706), (1, 0, 64.6840075)]\n"
     ]
    }
   ],
   "source": [
    "# Average fare grouped by class and survived\n",
    "\n",
    "query = 'SELECT Pclass, Survived, AVG(Fare) FROM titanic_data GROUP BY Pclass, Survived ORDER BY Pclass DESC, Survived DESC'\n",
    "get_query(query, 'Average fare of each passenger by class and survival', pg_curs)"
   ]
  },
  {
   "cell_type": "markdown",
   "metadata": {},
   "source": [
    "### How many siblings/spouses are aboard on average by passenger class/survival?"
   ]
  },
  {
   "cell_type": "code",
   "execution_count": 128,
   "metadata": {},
   "outputs": [
    {
     "name": "stdout",
     "output_type": "stream",
     "text": [
      "Siblings/spouses on average per class and survived [(3, 1, Decimal('0.43697478991596638655')), (2, 1, Decimal('0.49425287356321839080')), (1, 1, Decimal('0.49264705882352941176')), (3, 0, Decimal('0.67934782608695652174')), (2, 0, Decimal('0.31958762886597938144')), (1, 0, Decimal('0.28750000000000000000'))]\n"
     ]
    }
   ],
   "source": [
    "# Average Sib/Spouses Group by passenger class/survival\n",
    "\n",
    "query = \"SELECT Pclass, Survived, AVG(Siblings_Spouses_Aboard) FROM titanic_data GROUP BY Pclass, Survived ORDER BY Survived DESC, Pclass DESC\"\n",
    "get_query(query, 'Siblings/spouses on average per class and survived', pg_curs)"
   ]
  },
  {
   "cell_type": "code",
   "execution_count": 129,
   "metadata": {},
   "outputs": [
    {
     "name": "stdout",
     "output_type": "stream",
     "text": [
      "Parents/children on average per class and survived [(3, 1, Decimal('0.42016806722689075630')), (2, 1, Decimal('0.64367816091954022989')), (1, 1, Decimal('0.38970588235294117647')), (3, 0, Decimal('0.38858695652173913043')), (2, 0, Decimal('0.14432989690721649485')), (1, 0, Decimal('0.30000000000000000000'))]\n"
     ]
    }
   ],
   "source": [
    "# Average Parents/Children Group by passenger class/survival\n",
    "\n",
    "query = 'SELECT Pclass, Survived, AVG(Parents_Children_Aboard) FROM titanic_data GROUP BY Pclass, Survived ORDER BY Survived DESC, Pclass DESC'\n",
    "get_query(query, 'Parents/children on average per class and survived', pg_curs)"
   ]
  },
  {
   "cell_type": "code",
   "execution_count": 155,
   "metadata": {},
   "outputs": [
    {
     "name": "stdout",
     "output_type": "stream",
     "text": [
      " []\n"
     ]
    }
   ],
   "source": [
    "# Any Duplicate Names?\n",
    "\n",
    "query = 'SELECT Name FROM titanic_data GROUP BY Name HAVING COUNT(Name) > 1'\n",
    "get_query(query, '', pg_curs)"
   ]
  }
 ],
 "metadata": {
  "kernelspec": {
   "display_name": "Python 3",
   "language": "python",
   "name": "python3"
  },
  "language_info": {
   "codemirror_mode": {
    "name": "ipython",
    "version": 3
   },
   "file_extension": ".py",
   "mimetype": "text/x-python",
   "name": "python",
   "nbconvert_exporter": "python",
   "pygments_lexer": "ipython3",
   "version": "3.7.3"
  }
 },
 "nbformat": 4,
 "nbformat_minor": 2
}
